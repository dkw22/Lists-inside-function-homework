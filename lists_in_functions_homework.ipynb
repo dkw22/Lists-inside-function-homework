{
 "cells": [
  {
   "cell_type": "markdown",
   "metadata": {},
   "source": [
    "# Functions, Scoping, Data Collections 1 & List Comprehensions"
   ]
  },
  {
   "cell_type": "markdown",
   "metadata": {},
   "source": [
    "## Tasks Today:\n",
    "\n",
    "<i>Monday Additions (or, and ... if statements)</i>\n",
    "\n",
    "&check; String Manipulation <br>\n",
    " &nbsp;&nbsp;&nbsp;&nbsp; &check; strip() <br>\n",
    " &nbsp;&nbsp;&nbsp;&nbsp; &check; title() <br>\n",
    "&check; Working With Lists <br>\n",
    " &nbsp;&nbsp;&nbsp;&nbsp; &check; min() <br>\n",
    " &nbsp;&nbsp;&nbsp;&nbsp; &check; max() <br>\n",
    " &nbsp;&nbsp;&nbsp;&nbsp; &check; sum() <br>\n",
    " &nbsp;&nbsp;&nbsp;&nbsp; &check; sort() <br>\n",
    " &nbsp;&nbsp;&nbsp;&nbsp; &check; Copying a List <br>\n",
    " &nbsp;&nbsp;&nbsp;&nbsp; &check; 'in' keyword <br>\n",
    " &nbsp;&nbsp;&nbsp;&nbsp; &check; 'not in' keyword <br>\n",
    " &nbsp;&nbsp;&nbsp;&nbsp; &check; Checking an Empty List <br>\n",
    " &nbsp;&nbsp;&nbsp;&nbsp; &check; Removing Instances with a Loop <br>\n",
    "&check; List Comprehensions <br>\n",
    "&check; Tuples <br>\n",
    " &nbsp;&nbsp;&nbsp;&nbsp; &check; sorted() <br>\n",
    "&check; Functions <br>\n",
    " &nbsp;&nbsp;&nbsp;&nbsp; &check; User-Defined vs. Built-In Functions <br>\n",
    " &nbsp;&nbsp;&nbsp;&nbsp; &check; Accepting Parameters <br>\n",
    " &nbsp;&nbsp;&nbsp;&nbsp; &check; Default Parameters <br>\n",
    " &nbsp;&nbsp;&nbsp;&nbsp; &check; Making an Argument Optional <br>\n",
    " &nbsp;&nbsp;&nbsp;&nbsp; &check; Keyword Arguments <br>\n",
    " &nbsp;&nbsp;&nbsp;&nbsp; &check; Returning Values <br>\n",
    " &nbsp;&nbsp;&nbsp;&nbsp; &check; *args <br>\n",
    " &nbsp;&nbsp;&nbsp;&nbsp; &check; Docstring <br>\n",
    " &nbsp;&nbsp;&nbsp;&nbsp; &check; Using a User Function in a Loop <br>\n",
    "&check; Scope"
   ]
  },
  {
   "cell_type": "markdown",
   "metadata": {},
   "source": [
    "### WhiteBoard Problem"
   ]
  },
  {
   "cell_type": "code",
   "execution_count": null,
   "metadata": {},
   "outputs": [],
   "source": [
    "Find Palindrome\n",
    "---------------\n",
    "Given a string of lowercase letters, write a function to see if the word is a palindrome (the same word spelled forward and backwards).\n",
    "Example Input: 'racecar'\n",
    "Example Output: True"
   ]
  },
  {
   "cell_type": "code",
   "execution_count": 9,
   "metadata": {},
   "outputs": [
    {
     "data": {
      "text/plain": [
       "False"
      ]
     },
     "execution_count": 9,
     "metadata": {},
     "output_type": "execute_result"
    }
   ],
   "source": [
    "def palindrome_string(string):\n",
    "    return string == string[::-1]\n",
    "    \n",
    "palindrome_string('hello')"
   ]
  },
  {
   "cell_type": "markdown",
   "metadata": {},
   "source": [
    "### String Manipulation"
   ]
  },
  {
   "cell_type": "markdown",
   "metadata": {},
   "source": [
    "##### .lstrip()"
   ]
  },
  {
   "cell_type": "code",
   "execution_count": 10,
   "metadata": {},
   "outputs": [
    {
     "name": "stdout",
     "output_type": "stream",
     "text": [
      "John Smith\n"
     ]
    }
   ],
   "source": [
    "# string.lstrip()\n",
    "name = \"         hJohn Smith\"\n",
    "print(name.lstrip(\" \" \"h\"))\n"
   ]
  },
  {
   "cell_type": "markdown",
   "metadata": {},
   "source": [
    "##### .rstrip()"
   ]
  },
  {
   "cell_type": "code",
   "execution_count": 11,
   "metadata": {},
   "outputs": [
    {
     "name": "stdout",
     "output_type": "stream",
     "text": [
      "Bill Ross\n"
     ]
    }
   ],
   "source": [
    "# string.rstrip()\n",
    "name = \"Bill Ross     th\"\n",
    "print(name.rstrip(\" \" \"th\"))"
   ]
  },
  {
   "cell_type": "markdown",
   "metadata": {},
   "source": [
    "##### .strip()"
   ]
  },
  {
   "cell_type": "code",
   "execution_count": 12,
   "metadata": {},
   "outputs": [
    {
     "name": "stdout",
     "output_type": "stream",
     "text": [
      "John Smi\n"
     ]
    }
   ],
   "source": [
    "# string.strip()\n",
    "name = \"    John Smith    th\"\n",
    "print(name.strip(\" \" \"th\"))"
   ]
  },
  {
   "cell_type": "markdown",
   "metadata": {},
   "source": [
    "##### .title()"
   ]
  },
  {
   "cell_type": "code",
   "execution_count": 23,
   "metadata": {},
   "outputs": [
    {
     "name": "stdout",
     "output_type": "stream",
     "text": [
      "Devon Wehrlin\n"
     ]
    }
   ],
   "source": [
    "# string.title()\n",
    "name = \"DEVON WeHrLiN\"\n",
    "print(name.title())"
   ]
  },
  {
   "cell_type": "markdown",
   "metadata": {},
   "source": [
    "### String Exercise <br>\n",
    "<p>Strip all white space and capitalize every name in the list given</p>"
   ]
  },
  {
   "cell_type": "code",
   "execution_count": 27,
   "metadata": {},
   "outputs": [
    {
     "name": "stdout",
     "output_type": "stream",
     "text": [
      "['Connor', 'Max', 'Evan', 'Jordan']\n"
     ]
    }
   ],
   "source": [
    "names = ['    coNNor', 'max', ' EVan ', 'JORDAN']\n",
    "# HINT: You will need to use a for loop for iteration\n",
    "new_names = []\n",
    "for name in names:\n",
    "    new_names.append(name.strip(\" \").title())\n",
    "print(new_names)\n"
   ]
  },
  {
   "cell_type": "markdown",
   "metadata": {},
   "source": [
    "### Working With Lists"
   ]
  },
  {
   "cell_type": "markdown",
   "metadata": {},
   "source": [
    "##### min()"
   ]
  },
  {
   "cell_type": "code",
   "execution_count": 28,
   "metadata": {},
   "outputs": [
    {
     "name": "stdout",
     "output_type": "stream",
     "text": [
      "2\n"
     ]
    }
   ],
   "source": [
    "# min(list)\n",
    "numbers = [4, 2, 97, 54, 16]\n",
    "print(min(numbers))"
   ]
  },
  {
   "cell_type": "markdown",
   "metadata": {},
   "source": [
    "##### max()"
   ]
  },
  {
   "cell_type": "code",
   "execution_count": 30,
   "metadata": {},
   "outputs": [
    {
     "name": "stdout",
     "output_type": "stream",
     "text": [
      "97\n"
     ]
    }
   ],
   "source": [
    "# max(list)\n",
    "numbers = [4, 2, 97, 54, 16]\n",
    "print(max(numbers))"
   ]
  },
  {
   "cell_type": "markdown",
   "metadata": {},
   "source": [
    "##### sum()"
   ]
  },
  {
   "cell_type": "code",
   "execution_count": 31,
   "metadata": {},
   "outputs": [
    {
     "name": "stdout",
     "output_type": "stream",
     "text": [
      "173\n"
     ]
    }
   ],
   "source": [
    "# sum(list)\n",
    "numbers = [4, 2, 97, 54, 16]\n",
    "print(sum(numbers))\n"
   ]
  },
  {
   "cell_type": "markdown",
   "metadata": {},
   "source": [
    "##### sorted()"
   ]
  },
  {
   "cell_type": "code",
   "execution_count": 35,
   "metadata": {},
   "outputs": [
    {
     "name": "stdout",
     "output_type": "stream",
     "text": [
      "[4, 2, 97, 54, 16]\n",
      "\n",
      "\n",
      "regular numbers: [4, 2, 97, 54, 16]\n",
      "sorted numbers: [2, 4, 16, 54, 97]\n"
     ]
    }
   ],
   "source": [
    "# sorted(list)\n",
    "numbers = [4, 2, 97, 54, 16]\n",
    "print(numbers)\n",
    "\n",
    "sorted_numbers = sorted(numbers)\n",
    "print('\\n')\n",
    "print(f'regular numbers: {numbers}')\n",
    "print(f'sorted numbers: {sorted_numbers}')"
   ]
  },
  {
   "cell_type": "markdown",
   "metadata": {},
   "source": [
    "##### .sort() <br>\n",
    "<p>Difference between sort and sorted, is that sorted doesn't change original list it returns a copy, while .sort changes the original list</p>"
   ]
  },
  {
   "cell_type": "code",
   "execution_count": 37,
   "metadata": {},
   "outputs": [
    {
     "name": "stdout",
     "output_type": "stream",
     "text": [
      "Before Sort: [2, 4, 16, 54, 97]\n",
      "\n",
      "\n",
      "After Sort: None\n",
      "[2, 4, 16, 54, 97]\n"
     ]
    }
   ],
   "source": [
    "# list.sort()\n",
    "print(f'Before Sort: {numbers}')\n",
    "print('\\n')\n",
    "print(f'After Sort: {numbers.sort()}')\n",
    "print(numbers)\n",
    "#doesnt return value, just does calulations to original list\n",
    "# use sorted when you don't want to alter original list, use .sort() when you want to alter original list"
   ]
  },
  {
   "cell_type": "markdown",
   "metadata": {},
   "source": [
    "##### Copying a List"
   ]
  },
  {
   "cell_type": "code",
   "execution_count": 39,
   "metadata": {},
   "outputs": [
    {
     "name": "stdout",
     "output_type": "stream",
     "text": [
      "[2, 4, 16, 54, 97]\n",
      "[2, 4, 16, 54, 97]\n"
     ]
    }
   ],
   "source": [
    "# [:] copies a list, doesn't alter original\n",
    "list_1 = numbers[:]\n",
    "print(list_1)\n",
    "print(numbers)"
   ]
  },
  {
   "cell_type": "markdown",
   "metadata": {},
   "source": [
    "##### 'in' keyword"
   ]
  },
  {
   "cell_type": "code",
   "execution_count": 41,
   "metadata": {},
   "outputs": [
    {
     "name": "stdout",
     "output_type": "stream",
     "text": [
      "Not an Instructor boss...\n"
     ]
    }
   ],
   "source": [
    "l_teachers = [\"Joel\", \"Derek\", \"Terrell\", \"Brian\", \"Joe\"]\n",
    "\n",
    "if 'Connor' in l_teachers:\n",
    "    print('Coding Temple Instructor')\n",
    "else:\n",
    "    print('Not an Instructor boss...')"
   ]
  },
  {
   "cell_type": "markdown",
   "metadata": {},
   "source": [
    "##### 'not in' keyword"
   ]
  },
  {
   "cell_type": "code",
   "execution_count": 43,
   "metadata": {},
   "outputs": [
    {
     "name": "stdout",
     "output_type": "stream",
     "text": [
      "Found\n",
      "Not Found\n",
      "Not Found\n",
      "Not Found\n",
      "Found\n"
     ]
    }
   ],
   "source": [
    "for name in l_teachers:\n",
    "    if 'J' not in name[0]:\n",
    "        print('Not Found')\n",
    "    else:\n",
    "        print('Found')"
   ]
  },
  {
   "cell_type": "markdown",
   "metadata": {},
   "source": [
    "##### Checking an Empty List"
   ]
  },
  {
   "cell_type": "code",
   "execution_count": 44,
   "metadata": {},
   "outputs": [
    {
     "name": "stdout",
     "output_type": "stream",
     "text": [
      "Empty List\n"
     ]
    }
   ],
   "source": [
    "# if l_1: or if l_1 = []\n",
    "l_2 = []\n",
    "if l_2 == []:\n",
    "    print('Empty List')"
   ]
  },
  {
   "cell_type": "markdown",
   "metadata": {},
   "source": [
    "##### Removing Instances with a Loop"
   ]
  },
  {
   "cell_type": "code",
   "execution_count": 46,
   "metadata": {},
   "outputs": [
    {
     "name": "stdout",
     "output_type": "stream",
     "text": [
      "['Connor', 'Max', 'Joel', 'Alpha Ryan', 'Nijor Terrell', 'Randy', 'Rony']\n",
      "['Max', 'Joel', 'Alpha Ryan', 'Nijor Terrell', 'Randy', 'Rony']\n"
     ]
    }
   ],
   "source": [
    "# while, remove\n",
    "names = ['Connor', 'Max', 'Joel', 'Alpha Ryan', 'Nijor Terrell', 'Evan', 'Randy', 'Rony', 'Evan'] \n",
    "#while, remove\n",
    "while 'Evan' in names:\n",
    "    names.remove('Evan')\n",
    "print(names)\n",
    "\n",
    "#for, remove\n",
    "for name in names:\n",
    "    if name == 'Connor':\n",
    "        names.remove('Connor')\n",
    "print(names)"
   ]
  },
  {
   "cell_type": "markdown",
   "metadata": {},
   "source": [
    "### List Exercise <br>\n",
    "<p>Remove all duplicates<br><b>Extra: Create a program that will remove any duplicates from a given list</b></p>"
   ]
  },
  {
   "cell_type": "code",
   "execution_count": 48,
   "metadata": {},
   "outputs": [
    {
     "name": "stdout",
     "output_type": "stream",
     "text": [
      "['connor', 'bob', 'evan', 'max', 2, 3, 4, 'kevin']\n"
     ]
    }
   ],
   "source": [
    "names = ['connor', 'connor', 'bob', 'connor', 'evan', 'max', 'evan', 2, 2, 2, 3, 3, 4, 'bob', 'kevin']\n",
    "# Hint 1: You will need an append\n",
    "# Hint 2: Using an empty list will make life easier\n",
    "no_doubles = []\n",
    "for name in names:\n",
    "    if name not in no_doubles:\n",
    "        no_doubles.append(name)\n",
    "print(no_doubles)\n",
    "\n"
   ]
  },
  {
   "cell_type": "markdown",
   "metadata": {},
   "source": [
    "### List Comprehensions <br>\n",
    "<p>Creating a quickly generated list to work with<br>*result*  = [*transform*    *iteration*         *filter*     ]</p>"
   ]
  },
  {
   "cell_type": "markdown",
   "metadata": {},
   "source": [
    "##### In a list comprehension we have a few pieces:\n",
    "1. The first is the counter/ variable - IN this the variable is x\n",
    "2. then we have a transform for the variable\n",
    "3. The finale part of a list comp is called the condition\n",
    "\n",
    "```python\n",
    "    [variable, transform, condition]\n",
    "```"
   ]
  },
  {
   "cell_type": "code",
   "execution_count": 59,
   "metadata": {},
   "outputs": [
    {
     "name": "stdout",
     "output_type": "stream",
     "text": [
      "[0, 1, 2, 3, 4, 5, 6, 7, 8, 9, 10, 11, 12, 13, 14, 15, 16, 17, 18, 19, 20, 21, 22, 23, 24, 25, 26, 27, 28, 29, 30, 31, 32, 33, 34, 35, 36, 37, 38, 39, 40, 41, 42, 43, 44, 45, 46, 47, 48, 49, 50, 51, 52, 53, 54, 55, 56, 57, 58, 59, 60, 61, 62, 63, 64, 65, 66, 67, 68, 69, 70, 71, 72, 73, 74, 75, 76, 77, 78, 79, 80, 81, 82, 83, 84, 85, 86, 87, 88, 89, 90, 91, 92, 93, 94, 95, 96, 97, 98, 99]\n",
      "\n",
      "\n",
      "[0, 1, 2, 3, 4, 5, 6, 7, 8, 9, 10, 11, 12, 13, 14, 15, 16, 17, 18, 19, 20, 21, 22, 23, 24, 25, 26, 27, 28, 29, 30, 31, 32, 33, 34, 35, 36, 37, 38, 39, 40, 41, 42, 43, 44, 45, 46, 47, 48, 49, 50, 51, 52, 53, 54, 55, 56, 57, 58, 59, 60, 61, 62, 63, 64, 65, 66, 67, 68, 69, 70, 71, 72, 73, 74, 75, 76, 77, 78, 79, 80, 81, 82, 83, 84, 85, 86, 87, 88, 89, 90, 91, 92, 93, 94, 95, 96, 97, 98, 99]\n"
     ]
    }
   ],
   "source": [
    "# number comprehension\n",
    "# With a regular for loop\n",
    "nums = []\n",
    "for i in range(100):\n",
    "    nums.append(i)\n",
    "print(nums)\n",
    "\n",
    "# IN a list comprehension we have a few pieces:\n",
    "# The first is the counter/ variable - IN this the variable is x\n",
    "# Then we have a transform for the variable \n",
    "# The finale part of a list comp is called the condition\n",
    "#[variable, transform, condition]\n",
    "print('\\n')\n",
    "numbs = [i for i in range(100)]\n",
    "print(numbs)\n",
    "\n",
    "\n"
   ]
  },
  {
   "cell_type": "markdown",
   "metadata": {},
   "source": [
    "There are a few benefits to using List comprehensions. The most obvious would be that we now have shorter code to work with instead of using 3+ lines of code in the for loop variant.\n",
    "\n",
    "Another is an added benefit to memory usage. Since the list's memory is allocated first before adding elements to it, we don't have to resize the list once we add elements to it.\n",
    "\n",
    "Lastly, list comprehensions are considered the \"pythonic\" way to write code by the PEP8 standards (Python Style Guide)"
   ]
  },
  {
   "cell_type": "code",
   "execution_count": 60,
   "metadata": {},
   "outputs": [
    {
     "name": "stdout",
     "output_type": "stream",
     "text": [
      "[0, 1, 4, 9, 16, 25, 36, 49, 64, 81]\n",
      "\n",
      "\n",
      "[0, 1, 4, 9, 16, 25, 36, 49, 64, 81]\n"
     ]
    }
   ],
   "source": [
    "# square number comprehension\n",
    "squares = [x**2 for x in range(10)]\n",
    "print(squares)\n",
    "\n",
    "squares_reg = []\n",
    "for x in range(10):\n",
    "    squares_reg.append(x**2)\n",
    "print('\\n')\n",
    "print(squares_reg)\n"
   ]
  },
  {
   "cell_type": "code",
   "execution_count": 62,
   "metadata": {},
   "outputs": [
    {
     "name": "stdout",
     "output_type": "stream",
     "text": [
      "['C', 'M', 'E', 'B']\n",
      "\n",
      "\n",
      "['C', 'M', 'E', 'B']\n"
     ]
    }
   ],
   "source": [
    "# string comprehension\n",
    "names = ['Connor', 'Max', 'Evan', 'Bob']\n",
    "\n",
    "first_char_comp = [name[0] for name in names]\n",
    "print(first_char_comp)\n",
    "\n",
    "first_char = []\n",
    "for name in names:\n",
    "    first_char.append(name[0])\n",
    "print('\\n')\n",
    "print(first_char)"
   ]
  },
  {
   "cell_type": "code",
   "execution_count": 64,
   "metadata": {},
   "outputs": [
    {
     "name": "stdout",
     "output_type": "stream",
     "text": [
      "['Connor']\n",
      "\n",
      "\n",
      "['Connor']\n"
     ]
    }
   ],
   "source": [
    "#Using the 'if' statement.... if always comes AFTER the for\n",
    "c_names = [first_name for first_name in names if first_name[0] == 'C']\n",
    "\n",
    "print(c_names)\n",
    "\n",
    "c_names_reg = []\n",
    "for first_name in names:\n",
    "    if first_name[0] == 'C':\n",
    "        c_names_reg.append(first_name)\n",
    "print('\\n')\n",
    "print(c_names_reg)"
   ]
  },
  {
   "cell_type": "code",
   "execution_count": 67,
   "metadata": {},
   "outputs": [
    {
     "name": "stdout",
     "output_type": "stream",
     "text": [
      "[2, 'evan', 3, 4, 'connor', 'max', 'kevin', 'bob']\n"
     ]
    }
   ],
   "source": [
    "names = ['connor', 'connor', 'bob', 'connor', 'evan', 'max', 'evan', 2, 2, 2, 3, 3, 4, 'bob', 'kevin']\n",
    "names_dup = [i for i in set(names)]\n",
    "\n",
    "print(names_dup)"
   ]
  },
  {
   "cell_type": "markdown",
   "metadata": {},
   "source": [
    "### Tuples <br>\n",
    "<p><b>Defined as an immutable list</b></p><br>Seperated by commas using parenthesis"
   ]
  },
  {
   "cell_type": "code",
   "execution_count": 72,
   "metadata": {},
   "outputs": [
    {
     "name": "stdout",
     "output_type": "stream",
     "text": [
      "<class 'tuple'>\n",
      "<class 'tuple'>\n",
      "1\n",
      "1\n",
      "2\n",
      "3\n"
     ]
    }
   ],
   "source": [
    "tup_1 = 1,2,3 #first way of creating tuple\n",
    "tup_2 = (1,2,3) #another way to create tuple\n",
    "\n",
    "print(type(tup_1))\n",
    "print(type(tup_2))\n",
    "\n",
    "#accessing values from tuple\n",
    "print(tup_1[0])\n",
    "\n",
    "#Looping over tuple\n",
    "for num in tup_1:\n",
    "    print(num)"
   ]
  },
  {
   "cell_type": "markdown",
   "metadata": {},
   "source": [
    "##### sorted()"
   ]
  },
  {
   "cell_type": "code",
   "execution_count": 75,
   "metadata": {},
   "outputs": [
    {
     "name": "stdout",
     "output_type": "stream",
     "text": [
      "<class 'list'>\n",
      "<class 'tuple'>\n",
      "(20, 5, 1, 3, 9, 45)\n",
      "(1, 3, 5, 9, 20, 45)\n"
     ]
    }
   ],
   "source": [
    "tup_3 = (20,5,1,3,9,45)\n",
    "\n",
    "sorted_tup = sorted(tup_3)\n",
    "print(type(sorted_tup))\n",
    "\n",
    "new_tup = tuple(sorted_tup)\n",
    "print(type(new_tup))\n",
    "print(tup_3)\n",
    "print(new_tup)"
   ]
  },
  {
   "cell_type": "markdown",
   "metadata": {},
   "source": [
    "##### Adding values to a Tuple"
   ]
  },
  {
   "cell_type": "code",
   "execution_count": 77,
   "metadata": {},
   "outputs": [
    {
     "name": "stdout",
     "output_type": "stream",
     "text": [
      "(1, 2, 3)\n",
      "(1, 2, 3, 5)\n"
     ]
    }
   ],
   "source": [
    "print(tup_1)\n",
    "\n",
    "tup_1 = tup_1 + (5,)\n",
    "\n",
    "print(tup_1)"
   ]
  },
  {
   "cell_type": "markdown",
   "metadata": {},
   "source": [
    "## Functions"
   ]
  },
  {
   "cell_type": "markdown",
   "metadata": {},
   "source": [
    "##### User-Defined vs. Built-In Functions"
   ]
  },
  {
   "cell_type": "code",
   "execution_count": 79,
   "metadata": {},
   "outputs": [
    {
     "name": "stdout",
     "output_type": "stream",
     "text": [
      "<function function_name at 0x0000024F195F9DC0>\n",
      "Hello World\n"
     ]
    }
   ],
   "source": [
    "# User Defined\n",
    "def function_name():\n",
    "    return'Hello World'\n",
    "#Showing the function call in memory\n",
    "print(function_name)\n",
    "# Calling the function\n",
    "print(function_name())\n",
    "\n",
    "#Built in functions\n",
    "#Highlighted in green"
   ]
  },
  {
   "cell_type": "markdown",
   "metadata": {},
   "source": [
    "##### Accepting Parameters"
   ]
  },
  {
   "cell_type": "code",
   "execution_count": 81,
   "metadata": {},
   "outputs": [
    {
     "name": "stdout",
     "output_type": "stream",
     "text": [
      "Hello, Devon Wehrlin.\n"
     ]
    }
   ],
   "source": [
    "# Order matters\n",
    "# A variable can be any type of object\n",
    "\n",
    "def print_full_name(first_name, last_name):\n",
    "    return f'Hello, {first_name} {last_name}.'\n",
    "\n",
    "print(print_full_name('Devon', 'Wehrlin'))"
   ]
  },
  {
   "cell_type": "markdown",
   "metadata": {},
   "source": [
    "##### Default Parameters"
   ]
  },
  {
   "cell_type": "code",
   "execution_count": 82,
   "metadata": {},
   "outputs": [
    {
     "name": "stdout",
     "output_type": "stream",
     "text": [
      "The name is ... Bond... James Bond..\n"
     ]
    }
   ],
   "source": [
    "# need to come AFTER non-default parameters\n",
    "def print_agent_name(first_name, last_name = 'Bond'):\n",
    "    return f'The name is ... {last_name}... {first_name} {last_name}..'\n",
    "\n",
    "print(print_agent_name('James'))"
   ]
  },
  {
   "cell_type": "markdown",
   "metadata": {},
   "source": [
    "##### Making an Argument Optional"
   ]
  },
  {
   "cell_type": "code",
   "execution_count": 85,
   "metadata": {},
   "outputs": [
    {
     "data": {
      "text/plain": [
       "'Hello Mr. Winner Ed.'"
      ]
     },
     "execution_count": 85,
     "metadata": {},
     "output_type": "execute_result"
    }
   ],
   "source": [
    "def print_horse_name(first, middle = '', last = 'Ed'):\n",
    "    return f'Hello {first} {middle} {last}.'\n",
    "print_horse_name(\"Mr.\", \"Winner\")"
   ]
  },
  {
   "cell_type": "markdown",
   "metadata": {},
   "source": [
    "##### Keyword Arguments"
   ]
  },
  {
   "cell_type": "code",
   "execution_count": null,
   "metadata": {},
   "outputs": [],
   "source": [
    "# last_name='Max', first_name='Smith' in the function call\n",
    "\n",
    "# see above"
   ]
  },
  {
   "cell_type": "markdown",
   "metadata": {},
   "source": [
    "# Creating a start, stop, step function"
   ]
  },
  {
   "cell_type": "code",
   "execution_count": 87,
   "metadata": {},
   "outputs": [
    {
     "name": "stdout",
     "output_type": "stream",
     "text": [
      "0\n",
      "1\n",
      "2\n",
      "3\n",
      "4\n",
      "5\n",
      "6\n",
      "7\n",
      "8\n",
      "9\n",
      "10\n",
      "11\n",
      "12\n",
      "13\n",
      "14\n",
      "15\n",
      "16\n",
      "17\n",
      "18\n",
      "19\n"
     ]
    }
   ],
   "source": [
    "def my_range(stop, start=0, step=1):\n",
    "    for i in range(start, stop, step):\n",
    "        print(i)\n",
    "my_range(20)"
   ]
  },
  {
   "cell_type": "markdown",
   "metadata": {},
   "source": [
    "##### Returning Values"
   ]
  },
  {
   "cell_type": "code",
   "execution_count": 88,
   "metadata": {},
   "outputs": [
    {
     "data": {
      "text/plain": [
       "12"
      ]
     },
     "execution_count": 88,
     "metadata": {},
     "output_type": "execute_result"
    }
   ],
   "source": [
    "def add_nums(num1, num2):\n",
    "    return num1 + num2\n",
    "add_nums(5,7)"
   ]
  },
  {
   "cell_type": "markdown",
   "metadata": {},
   "source": [
    "##### *args"
   ]
  },
  {
   "cell_type": "code",
   "execution_count": 93,
   "metadata": {},
   "outputs": [
    {
     "name": "stdout",
     "output_type": "stream",
     "text": [
      "1\n",
      "\n",
      "\n",
      "three\n",
      "7\n",
      "horse\n",
      "\n",
      "\n",
      "{'thirdInput': 'four'}\n"
     ]
    }
   ],
   "source": [
    "#stands for arguments, takes ANY number of arguments as parameters\n",
    "#must be last if multiple parameters are present\n",
    "def print_args(num1, *args, **kwargs):\n",
    "    print(num1)\n",
    "    print('\\n')\n",
    "    for arg in args:\n",
    "        print(arg)\n",
    "    print('\\n')\n",
    "    print(kwargs)\n",
    "    \n",
    "print_args(1, 'three', 7, 'horse', thirdInput = 'four')"
   ]
  },
  {
   "cell_type": "markdown",
   "metadata": {},
   "source": [
    "##### Docstring"
   ]
  },
  {
   "cell_type": "code",
   "execution_count": 98,
   "metadata": {},
   "outputs": [
    {
     "name": "stdout",
     "output_type": "stream",
     "text": [
      "George\n",
      "Henry\n",
      "Liz\n",
      "Help on function print_names in module __main__:\n",
      "\n",
      "print_names(list_1)\n",
      "    print_names(list_1)\n",
      "    Function requires a list to be passed as a parameter\n",
      "    and will print the contents of the list. Expecting\n",
      "    a list of names to be passed\n",
      "\n"
     ]
    }
   ],
   "source": [
    "def print_names(list_1):\n",
    "    \"\"\"\n",
    "    print_names(list_1)\n",
    "    Function requires a list to be passed as a parameter\n",
    "    and will print the contents of the list. Expecting\n",
    "    a list of names to be passed\n",
    "    \"\"\"\n",
    "    for name in list_1:\n",
    "        print(name)\n",
    "print_names(['George', 'Henry', 'Liz'])\n",
    "help(print_names)"
   ]
  },
  {
   "cell_type": "markdown",
   "metadata": {},
   "source": [
    "##### Using a User Function in a Loop"
   ]
  },
  {
   "cell_type": "code",
   "execution_count": 2,
   "metadata": {},
   "outputs": [
    {
     "name": "stdout",
     "output_type": "stream",
     "text": [
      "Are you ready to quit?no\n",
      "What do you want to do?nothing\n",
      "nothing\n",
      "Ready Yet?yes\n",
      "What do you want to do?nothing\n",
      "nothing\n",
      "Ready Yet?quit\n"
     ]
    }
   ],
   "source": [
    "def printInput(answer):\n",
    "    print(answer)\n",
    "response = input('Are you ready to quit?')\n",
    "while True:\n",
    "    ask = input('What do you want to do?')\n",
    "    printInput(ask)\n",
    "    response = input('Ready Yet?')\n",
    "    if response.lower() == 'quit':\n",
    "        break"
   ]
  },
  {
   "cell_type": "markdown",
   "metadata": {},
   "source": [
    "## Function Exercise <br>\n",
    "<p>Write a function that loops through a list of first_names and a list of last_names, combines the two and return a list of full_names</p>"
   ]
  },
  {
   "cell_type": "code",
   "execution_count": 15,
   "metadata": {},
   "outputs": [
    {
     "name": "stdout",
     "output_type": "stream",
     "text": [
      "['John Smith', 'Evan Smith', 'Jordan Williams', 'Max Bell']\n"
     ]
    }
   ],
   "source": [
    "first_name = ['John', 'Evan', 'Jordan', 'Max']\n",
    "last_name = ['Smith', 'Smith', 'Williams', 'Bell']\n",
    "\n",
    "# Output: ['John Smith', 'Evan Smith', 'Jordan Williams', 'Max Bell']\n",
    "def full_names(first, last):\n",
    "    x = 0\n",
    "    full_names = []\n",
    "    for name in first:\n",
    "        full_names.append(first[x] + ' ' + last[x])\n",
    "        x += 1\n",
    "    print(full_names)\n",
    "full_names(first_name, last_name)"
   ]
  },
  {
   "cell_type": "markdown",
   "metadata": {},
   "source": [
    "## Scope <br>\n",
    "<p>Scope refers to the ability to access variables, different types of scope include:<br>a) Global<br>b) Function (local)<br>c) Class (local)</p>"
   ]
  },
  {
   "cell_type": "code",
   "execution_count": 16,
   "metadata": {},
   "outputs": [
    {
     "name": "stdout",
     "output_type": "stream",
     "text": [
      "3\n",
      "6\n"
     ]
    }
   ],
   "source": [
    "#placement of variable declaration matters\n",
    "number = 3 #global variable\n",
    "def myFunc():\n",
    "    num_3 = 6 #local function variable\n",
    "    return num_3\n",
    "\n",
    "print(number)\n",
    "return_num = myFunc()\n",
    "print(return_num)"
   ]
  },
  {
   "cell_type": "markdown",
   "metadata": {},
   "source": [
    "# Exercises"
   ]
  },
  {
   "cell_type": "markdown",
   "metadata": {},
   "source": [
    "## Exercise 1 <br>\n",
    "<p>Given a list as a parameter,write a function that returns a list of numbers that are less than ten</b></i></p><br>\n",
    "<p> For example: Say your input parameter to the function is [1,11,14,5,8,9]...Your output should [1,5,8,9]</p>"
   ]
  },
  {
   "cell_type": "code",
   "execution_count": 13,
   "metadata": {},
   "outputs": [
    {
     "data": {
      "text/plain": [
       "[1, 5, 8, 9]"
      ]
     },
     "execution_count": 13,
     "metadata": {},
     "output_type": "execute_result"
    }
   ],
   "source": [
    "# Use the following list - [1,11,14,5,8,9]\n",
    "\n",
    "l_1 = [1,11,14,5,8,9]\n",
    "def less_than_10(num_list):\n",
    "    less_10_list = []\n",
    "    for i in num_list:\n",
    "        if i < 10:\n",
    "            less_10_list.append(i)\n",
    "    return less_10_list\n",
    "less_than_10(l_1)"
   ]
  },
  {
   "cell_type": "markdown",
   "metadata": {},
   "source": [
    "## Exercise 2 <br>\n",
    "<p>Write a function that takes in two lists and returns the two lists merged together and sorted<br>\n",
    "<b><i>Hint: You can use the .sort() method</i></b></p>"
   ]
  },
  {
   "cell_type": "code",
   "execution_count": 20,
   "metadata": {},
   "outputs": [
    {
     "name": "stdout",
     "output_type": "stream",
     "text": [
      "[1, 2, 3, 3, 4, 4, 5, 5, 6, 6, 7, 8, 10]\n"
     ]
    }
   ],
   "source": [
    "l_1 = [1,2,3,4,5,6]\n",
    "l_2 = [3,4,5,6,7,8,10]\n",
    "\n",
    "def merged_lists(list_1, list_2):\n",
    "    new_list = list_1 + list_2\n",
    "    new_list.sort()\n",
    "    print(new_list)\n",
    "\n",
    "merged_lists(l_1,l_2)\n",
    "\n"
   ]
  }
 ],
 "metadata": {
  "kernelspec": {
   "display_name": "Python 3",
   "language": "python",
   "name": "python3"
  },
  "language_info": {
   "codemirror_mode": {
    "name": "ipython",
    "version": 3
   },
   "file_extension": ".py",
   "mimetype": "text/x-python",
   "name": "python",
   "nbconvert_exporter": "python",
   "pygments_lexer": "ipython3",
   "version": "3.8.5"
  }
 },
 "nbformat": 4,
 "nbformat_minor": 2
}
